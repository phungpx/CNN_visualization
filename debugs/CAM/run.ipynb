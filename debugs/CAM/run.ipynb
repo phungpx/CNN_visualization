{
 "cells": [
  {
   "cell_type": "code",
   "execution_count": 2,
   "id": "federal-monkey",
   "metadata": {},
   "outputs": [
    {
     "name": "stdout",
     "output_type": "stream",
     "text": [
      "current dir: /media/phungpx/WORKSPACE/PHUNGPX/CAMs/debugs/CAM\n",
      "changed dir: /media/phungpx/WORKSPACE/PHUNGPX/CAMs\n"
     ]
    }
   ],
   "source": [
    "import os\n",
    "print(f'current dir: {os.getcwd()}')\n",
    "os.chdir('/media/phungpx/WORKSPACE/PHUNGPX/CAMs/')\n",
    "print(f'changed dir: {os.getcwd()}')"
   ]
  },
  {
   "cell_type": "code",
   "execution_count": 3,
   "id": "fossil-criterion",
   "metadata": {},
   "outputs": [],
   "source": [
    "import cv2\n",
    "import utils\n",
    "import random\n",
    "from pathlib import Path"
   ]
  },
  {
   "cell_type": "code",
   "execution_count": 4,
   "id": "higher-column",
   "metadata": {},
   "outputs": [],
   "source": [
    "config = utils.load_yaml('./modules/CAM/config.yaml')\n",
    "resnet18 = utils.create_instance(config['resnet18'])\n",
    "trans_resnet18 = utils.create_instance(config['transformer_resnet18'])"
   ]
  },
  {
   "cell_type": "code",
   "execution_count": 5,
   "id": "solved-spice",
   "metadata": {},
   "outputs": [
    {
     "name": "stdout",
     "output_type": "stream",
     "text": [
      "2867\n"
     ]
    }
   ],
   "source": [
    "image_dir = Path('../../ID_CARD/hole_classification/dataset/test/hole/')\n",
    "image_paths = list(image_dir.glob('**/*.*'))\n",
    "random.shuffle(image_paths)\n",
    "print(len(image_paths))"
   ]
  },
  {
   "cell_type": "code",
   "execution_count": null,
   "id": "prescribed-liberia",
   "metadata": {},
   "outputs": [
    {
     "name": "stdout",
     "output_type": "stream",
     "text": [
      "../../ID_CARD/hole_classification/dataset/test/hole/CMQD_A/2_90B961153649_GTTT-page0.jpg\n",
      "****************************************\n",
      "none 0.5986342430114746\n",
      "../../ID_CARD/hole_classification/dataset/test/hole/CCCD_BACK/PROFILE-380428201-30017344978_940035629_20191008_t008$gftth$hoaidt54_CMNDMS_00_50023600_13861597886_OK.jpg\n",
      "****************************************\n",
      "none 0.6242328882217407\n",
      "../../ID_CARD/hole_classification/dataset/test/hole/CCCD_BACK/e6de3c6a-e948-4547-89bc-60a43f5b1feb-1.png\n",
      "****************************************\n",
      "hole 0.5661205053329468\n",
      "../../ID_CARD/hole_classification/dataset/test/hole/CMND_BACK/c74c2355-5030-45fd-a104-595c9fb03682-1.png\n",
      "****************************************\n",
      "hole 0.9986961483955383\n",
      "../../ID_CARD/hole_classification/dataset/test/hole/CMND/phungpx_1.jpg\n",
      "****************************************\n",
      "hole 0.998389720916748\n",
      "../../ID_CARD/hole_classification/dataset/test/hole/CCCD/PROFILE-380474832-30017351875_940257612_20191008_n030$gftth$thamnt48_CMNDMT_00_50024169_13863376486_OK.jpg\n",
      "****************************************\n",
      "hole 0.9985766410827637\n",
      "../../ID_CARD/hole_classification/dataset/test/hole/CCCD/khoavv.jpg\n",
      "****************************************\n",
      "hole 0.982744038105011\n",
      "../../ID_CARD/hole_classification/dataset/test/hole/CMND_BACK/PROFILE-380437399-11139349259_940079562_20191008_t008$gftth$thaolt325_CMNDMS_00_50023544_13861923380_OK.jpg\n",
      "****************************************\n",
      "hole 0.9752213358879089\n",
      "../../ID_CARD/hole_classification/dataset/test/hole/CMQD_D/2_96006094_GTTT-page0.jpg\n",
      "****************************************\n",
      "none 0.9867308139801025\n",
      "../../ID_CARD/hole_classification/dataset/test/hole/CMND_BACK/PROFILE-380476266-319576044_940265550_20191008_v064$gmts2$longltthcb2_CMNDMS_00_50023365_13863575138_OK.jpg\n",
      "****************************************\n",
      "hole 0.9907953143119812\n",
      "../../ID_CARD/hole_classification/dataset/test/hole/CCCD/tungdt.jpg\n",
      "****************************************\n",
      "hole 0.9765298366546631\n",
      "../../ID_CARD/hole_classification/dataset/test/hole/CMQD_A_BACK/2_90A842023441_GTTT-page1.jpg\n",
      "****************************************\n",
      "hole 0.7350978851318359\n",
      "../../ID_CARD/hole_classification/dataset/test/hole/PASSPORT_OTHER/visa_mc_Th_Huyn_2019.jpg\n",
      "****************************************\n",
      "none 0.9855448603630066\n",
      "../../ID_CARD/hole_classification/dataset/test/hole/CCCD_BACK/f67b852a-57a6-462f-861e-2a6438f5bbee-1.png\n",
      "****************************************\n",
      "none 0.6742507219314575\n",
      "../../ID_CARD/hole_classification/dataset/test/hole/CMQD_D_BACK/2_95006592_GTTT-page1.jpg\n",
      "****************************************\n",
      "hole 0.998760461807251\n",
      "../../ID_CARD/hole_classification/dataset/test/hole/CCCD/PROFILE-380471941-30017349465_940245210_20191008_v064$gftth$phonglv5_CMNDMT_00_50023849_13863066132_OK.jpg\n",
      "****************************************\n",
      "hole 0.6572358012199402\n",
      "../../ID_CARD/hole_classification/dataset/test/hole/CMND/phuongnn_1.jpg\n",
      "****************************************\n",
      "none 0.8851568698883057\n",
      "../../ID_CARD/hole_classification/dataset/test/hole/CMQD_D_BACK/2_99018607_GTTT-page5.jpg\n",
      "****************************************\n",
      "hole 0.9160740971565247\n",
      "../../ID_CARD/hole_classification/dataset/test/hole/CCCD_BACK/PROFILE-380432695-30000607452_940057889_20191008_l072$gmts2$nganltt2_CMNDMS_00_50023365_13861728362_OK.jpg\n",
      "****************************************\n",
      "hole 0.9373299479484558\n",
      "../../ID_CARD/hole_classification/dataset/test/hole/PASSPORT_OTHER/visa_thuy.jpg\n",
      "****************************************\n",
      "none 0.9897234439849854\n",
      "../../ID_CARD/hole_classification/dataset/test/hole/CCCD/PROFILE-380458870-30014330123_940183652_20191008_l072$gftth$thuynn24_CMNDMT_00_50023849_13862464800_OK.jpg\n",
      "****************************************\n",
      "hole 0.9989194869995117\n",
      "../../ID_CARD/hole_classification/dataset/test/hole/CMND_BACK/PROFILE-380420268-10948680727_940081391_20191008_t008$gmts2$quild0_CMNDMS_00_50023381_13861424868_OK.jpg\n",
      "****************************************\n",
      "none 0.7947908639907837\n",
      "../../ID_CARD/hole_classification/dataset/test/hole/CMND_BACK/e143452f-e30e-45b5-9e3c-a193978ed359-2.png\n",
      "****************************************\n",
      "hole 0.9185280203819275\n",
      "../../ID_CARD/hole_classification/dataset/test/hole/CMND_BACK/PROFILE-380469594-11047531393_940234268_20191008_t066$gmts2$anhtt14_CMNDMS_00_50023500_13862872259_OK.jpg\n",
      "****************************************\n",
      "hole 0.9863811135292053\n",
      "../../ID_CARD/hole_classification/dataset/test/hole/CCCD/fda2ee3e-18d1-41a3-9202-032268de802c-1.png\n",
      "****************************************\n",
      "hole 0.9855048060417175\n",
      "../../ID_CARD/hole_classification/dataset/test/hole/PASSPORT_OTHER/visa_mai_001 (1).jpg\n",
      "****************************************\n",
      "hole 0.6553947925567627\n",
      "../../ID_CARD/hole_classification/dataset/test/hole/CMND_BACK/adc9efb7-7246-43b4-a2cb-f2d7f93937b9-2.png\n",
      "****************************************\n",
      "hole 0.9935490489006042\n",
      "../../ID_CARD/hole_classification/dataset/test/hole/CMND/db8b377e-4691-4d48-819f-e52ca3ae2cbd-2.png\n",
      "****************************************\n",
      "hole 0.9998958110809326\n"
     ]
    }
   ],
   "source": [
    "def _resize(image, max_dimension=500):\n",
    "    h, w = image.shape[:2]\n",
    "    if (h > w) and (h > max_dimension):\n",
    "        image = cv2.resize(image, dsize=(int(max_dimension * w / h), max_dimension))\n",
    "    elif (w > h) and (w > max_dimension):\n",
    "        image = cv2.resize(image, dsize=(max_dimension, int(max_dimension * h / w)))\n",
    "    return image\n",
    "\n",
    "random.shuffle(image_paths)\n",
    "\n",
    "for idx, image_path in enumerate(image_paths):\n",
    "#     if idx == 10:\n",
    "#         break\n",
    "    print(image_path)\n",
    "    print('**' * 20)\n",
    "    image = cv2.imread(str(image_path))\n",
    "\n",
    "    class_name, class_score, heatmap = resnet18(image, target_layer='resnet18_conv')\n",
    "    print(class_name, class_score)\n",
    "    cv2.imshow('resnet18_conv', _resize(heatmap))\n",
    "\n",
    "#     class_name, class_score, heatmap = trans_resnet18(image, target_layer='resnet18_conv')   \n",
    "#     print(class_name, class_score)\n",
    "#     cv2.imshow('transformer_resnet18_conv', _resize(heatmap))\n",
    "\n",
    "#     class_name, class_score, heatmap = trans_resnet18(image, target_layer='self_attention')\n",
    "#     print(class_name, class_score)\n",
    "#     cv2.imshow('self_attention', _resize(heatmap))\n",
    "    cv2.waitKey()\n",
    "    cv2.destroyAllWindows()"
   ]
  },
  {
   "cell_type": "code",
   "execution_count": null,
   "id": "sixth-princeton",
   "metadata": {},
   "outputs": [],
   "source": []
  }
 ],
 "metadata": {
  "kernelspec": {
   "display_name": "Python 3",
   "language": "python",
   "name": "python3"
  },
  "language_info": {
   "codemirror_mode": {
    "name": "ipython",
    "version": 3
   },
   "file_extension": ".py",
   "mimetype": "text/x-python",
   "name": "python",
   "nbconvert_exporter": "python",
   "pygments_lexer": "ipython3",
   "version": "3.7.8"
  }
 },
 "nbformat": 4,
 "nbformat_minor": 5
}
